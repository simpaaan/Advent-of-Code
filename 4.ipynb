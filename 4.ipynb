{
 "cells": [
  {
   "cell_type": "markdown",
   "metadata": {},
   "source": [
    "The Elf leads you over to the pile of colorful cards. There, you discover dozens of scratchcards, all with their opaque covering already scratched off. Picking one up, it looks like each card has two lists of numbers separated by a vertical bar (|): a list of winning numbers and then a list of numbers you have. You organize the information into a table (your puzzle input).\n",
    "\n",
    "As far as the Elf has been able to figure out, you have to figure out which of the numbers you have appear in the list of winning numbers. The first match makes the card worth one point and each match after the first doubles the point value of that card.\n",
    "\n",
    "For example:\n",
    "\n",
    "    Card 1: 41 48 83 86 17 | 83 86  6 31 17  9 48 53\n",
    "    Card 2: 13 32 20 16 61 | 61 30 68 82 17 32 24 19\n",
    "    Card 3:  1 21 53 59 44 | 69 82 63 72 16 21 14  1\n",
    "    Card 4: 41 92 73 84 69 | 59 84 76 51 58  5 54 83\n",
    "    Card 5: 87 83 26 28 32 | 88 30 70 12 93 22 82 36\n",
    "    Card 6: 31 18 13 56 72 | 74 77 10 23 35 67 36 11\n",
    "\n",
    "In the above example, card 1 has five winning numbers (41, 48, 83, 86, and 17) and eight numbers you have (83, 86, 6, 31, 17, 9, 48, and 53). Of the numbers you have, four of them (48, 83, 17, and 86) are winning numbers! That means card 1 is worth 8 points (1 for the first match, then doubled three times for each of the three matches after the first).\n",
    "\n",
    "Card 2 has two winning numbers (32 and 61), so it is worth 2 points.\n",
    "Card 3 has two winning numbers (1 and 21), so it is worth 2 points.\n",
    "Card 4 has one winning number (84), so it is worth 1 point.\n",
    "Card 5 has no winning numbers, so it is worth no points.\n",
    "Card 6 has no winning numbers, so it is worth no points.\n",
    "So, in this example, the Elf's pile of scratchcards is worth 13 points.\n",
    "\n",
    "Take a seat in the large pile of colorful cards. How many points are they worth in total?"
   ]
  },
  {
   "cell_type": "code",
   "execution_count": 3,
   "metadata": {},
   "outputs": [
    {
     "data": {
      "text/plain": [
       "'Total points: 27454'"
      ]
     },
     "execution_count": 3,
     "metadata": {},
     "output_type": "execute_result"
    }
   ],
   "source": [
    "file = r'C:\\Users\\simon\\OneDrive\\Skrivbord\\Advent of Code 2023\\4\\input.txt'\n",
    "\n",
    "total_points = []\n",
    "with open(file) as f:\n",
    "    for line in f:\n",
    "        card = line.split(':')\n",
    "        row = card[1]\n",
    "        scratch = row.split('|')\n",
    "        win, game = scratch[0], scratch[1]\n",
    "        win, game = win.strip(), game.strip()\n",
    "        win, game = win.split(), game.split()\n",
    "        success = 0\n",
    "        points = 0\n",
    "        for numbers in game:\n",
    "            if numbers in win:\n",
    "                success += 1\n",
    "        if success == 0:\n",
    "            points = 0\n",
    "        elif success == 1:\n",
    "            points = 1\n",
    "        elif success > 1:\n",
    "            points = 1\n",
    "            for x in range(success - 1):\n",
    "                points = points * 2\n",
    "        total_points.append(points)\n",
    "\n",
    "f\"Total points: {sum(total_points)}\""
   ]
  },
  {
   "cell_type": "markdown",
   "metadata": {},
   "source": [
    "Just as you're about to report your findings to the Elf, one of you realizes that the rules have actually been printed on the back of every card this whole time.\n",
    "\n",
    "There's no such thing as \"points\". Instead, scratchcards only cause you to win more scratchcards equal to the number of winning numbers you have.\n",
    "\n",
    "Specifically, you win copies of the scratchcards below the winning card equal to the number of matches. So, if card 10 were to have 5 matching numbers, you would win one copy each of cards 11, 12, 13, 14, and 15.\n",
    "\n",
    "Copies of scratchcards are scored like normal scratchcards and have the same card number as the card they copied. So, if you win a copy of card 10 and it has 5 matching numbers, it would then win a copy of the same cards that the original card 10 won: cards 11, 12, 13, 14, and 15. This process repeats until none of the copies cause you to win any more cards. (Cards will never make you copy a card past the end of the table.)\n",
    "\n",
    "This time, the above example goes differently:\n",
    "\n",
    "    Card 1: 41 48 83 86 17 | 83 86  6 31 17  9 48 53\n",
    "    Card 2: 13 32 20 16 61 | 61 30 68 82 17 32 24 19\n",
    "    Card 3:  1 21 53 59 44 | 69 82 63 72 16 21 14  1\n",
    "    Card 4: 41 92 73 84 69 | 59 84 76 51 58  5 54 83\n",
    "    Card 5: 87 83 26 28 32 | 88 30 70 12 93 22 82 36\n",
    "    Card 6: 31 18 13 56 72 | 74 77 10 23 35 67 36 11\n",
    "\n",
    "Card 1 has four matching numbers, so you win one copy each of the next four cards: cards 2, 3, 4, and 5.\n",
    "Your original card 2 has two matching numbers, so you win one copy each of cards 3 and 4.\n",
    "Your copy of card 2 also wins one copy each of cards 3 and 4.\n",
    "Your four instances of card 3 (one original and three copies) have two matching numbers, so you win four copies each of cards 4 and 5.\n",
    "Your eight instances of card 4 (one original and seven copies) have one matching number, so you win eight copies of card 5.\n",
    "Your fourteen instances of card 5 (one original and thirteen copies) have no matching numbers and win no more cards.\n",
    "Your one instance of card 6 (one original) has no matching numbers and wins no more cards.\n",
    "Once all of the originals and copies have been processed, you end up with 1 instance of card 1, 2 instances of card 2, 4 instances of card 3, 8 instances of card 4, 14 instances of card 5, and 1 instance of card 6. In total, this example pile of scratchcards causes you to ultimately have 30 scratchcards!\n",
    "\n",
    "Process all of the original and copied scratchcards until no more scratchcards are won. Including the original set of scratchcards, how many total scratchcards do you end up with?"
   ]
  },
  {
   "cell_type": "code",
   "execution_count": 4,
   "metadata": {},
   "outputs": [],
   "source": [
    "from collections import Counter"
   ]
  },
  {
   "cell_type": "code",
   "execution_count": 5,
   "metadata": {},
   "outputs": [],
   "source": [
    "file = r'C:\\Users\\simon\\OneDrive\\Skrivbord\\Advent of Code 2023\\4\\input.txt'\n",
    "\n",
    "with open(file) as f:\n",
    "    row = 0\n",
    "    cards = []\n",
    "    copies = []\n",
    "    for line in f:\n",
    "        cards.append(row)\n",
    "        success = 0\n",
    "        card = line.split(':')\n",
    "        card = card[1]\n",
    "        scratch = card.split('|')\n",
    "        win, game = scratch[0], scratch[1]\n",
    "        win, game = win.strip(), game.strip()\n",
    "        win, game = win.split(), game.split()\n",
    "        \n",
    "        for numbers in game:\n",
    "            if numbers in win:\n",
    "                success += 1\n",
    "        values = [row + 1 + x for x in range(success)]\n",
    "        copies.extend(values)\n",
    "        \n",
    "        if row in copies:\n",
    "            counter = Counter(copies)\n",
    "            o_c = counter[row] * values\n",
    "            copies.extend(o_c)\n",
    "\n",
    "        row = row + 1  "
   ]
  },
  {
   "cell_type": "code",
   "execution_count": 8,
   "metadata": {},
   "outputs": [
    {
     "data": {
      "text/plain": [
       "'Total number of cards: 6857330'"
      ]
     },
     "execution_count": 8,
     "metadata": {},
     "output_type": "execute_result"
    }
   ],
   "source": [
    "total_cards = len(cards) + len(copies)\n",
    "f\"Total number of cards: {total_cards}\""
   ]
  }
 ],
 "metadata": {
  "kernelspec": {
   "display_name": "base",
   "language": "python",
   "name": "python3"
  },
  "language_info": {
   "codemirror_mode": {
    "name": "ipython",
    "version": 3
   },
   "file_extension": ".py",
   "mimetype": "text/x-python",
   "name": "python",
   "nbconvert_exporter": "python",
   "pygments_lexer": "ipython3",
   "version": "3.11.5"
  }
 },
 "nbformat": 4,
 "nbformat_minor": 2
}
