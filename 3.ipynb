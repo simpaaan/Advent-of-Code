{
 "cells": [
  {
   "cell_type": "markdown",
   "metadata": {},
   "source": [
    "# Day 3: Gear Ratios\n",
    "\n",
    "## Part 1\n",
    "\n",
    "The engineer explains that an engine part seems to be missing from the engine, but nobody can figure out which one. If you can add up all the part numbers in the engine schematic, it should be easy to work out which part is missing.\n",
    "\n",
    "The engine schematic (your puzzle input) consists of a visual representation of the engine. There are lots of numbers and symbols you don't really understand, but apparently any number adjacent to a symbol, even diagonally, is a \"part number\" and should be included in your sum. (Periods (.) do not count as a symbol.)\n",
    "\n",
    "Here is an example engine schematic:\n",
    "\n",
    "    467..114..\n",
    "    ...*......\n",
    "    ..35..633.\n",
    "    ......#...\n",
    "    617*......\n",
    "    .....+.58.\n",
    "    ..592.....\n",
    "    ......755.\n",
    "    ...$.*....\n",
    "    .664.598..\n",
    "\n",
    "In this schematic, two numbers are not part numbers because they are not adjacent to a symbol: 114 (top right) and 58 (middle right). Every other number is adjacent to a symbol and so is a part number; their sum is 4361.\n",
    "\n",
    "Of course, the actual engine schematic is much larger. What is the sum of all of the part numbers in the engine schematic?"
   ]
  },
  {
   "cell_type": "code",
   "execution_count": 1,
   "metadata": {},
   "outputs": [],
   "source": [
    "file = r'C:\\Users\\simon\\OneDrive\\Skrivbord\\Advent of Code 2023\\3\\input.txt'\n",
    "\n",
    "symbols = ['%', '#', '*', '$', '/', '@', '-', '&', '+', '=']\n",
    "\n",
    "locations = []\n",
    "\n",
    "with open(file) as f:\n",
    "    row = 0\n",
    "    for line in f:\n",
    "        count = 0\n",
    "        line = line.strip()\n",
    "        for item in line:\n",
    "            if item in symbols:\n",
    "                locations.append((row, count))\n",
    "            count += 1\n",
    "        row += 1"
   ]
  },
  {
   "cell_type": "code",
   "execution_count": 2,
   "metadata": {},
   "outputs": [],
   "source": [
    "loc = []\n",
    "for x in locations:\n",
    "    t1 = x[0] - 1, x[1] - 1\n",
    "    t2 = x[0] - 1, x[1]\n",
    "    t3 = x[0] - 1, x[1] + 1\n",
    "\n",
    "    t4 = x[0], x[1] - 1\n",
    "    t5 = x[0], x[1] + 1\n",
    "\n",
    "    t6 = x[0] + 1, x[1] - 1\n",
    "    t7 = x[0] + 1, x[1] \n",
    "    t8 = x[0] + 1, x[1] + 1    \n",
    "\n",
    "    t = t1, t2, t3, t4, t5, t6, t7, t8\n",
    "    loc.append(t)\n",
    "    \n",
    "loc = [item for sublist in loc for item in sublist]"
   ]
  },
  {
   "cell_type": "code",
   "execution_count": 5,
   "metadata": {},
   "outputs": [
    {
     "data": {
      "text/plain": [
       "'Sum of part numbers: 498559'"
      ]
     },
     "execution_count": 5,
     "metadata": {},
     "output_type": "execute_result"
    }
   ],
   "source": [
    "file = r'C:\\Users\\simon\\OneDrive\\Skrivbord\\Advent of Code 2023\\3\\input.txt'\n",
    "\n",
    "numbers = []\n",
    "with open(file) as f:\n",
    "    row = 0\n",
    "    for line in f:\n",
    "        line = line.strip()\n",
    "        num = ''\n",
    "        for col, val in enumerate(line):\n",
    "            if val.isdigit() and (row, col) in loc:\n",
    "                num += val\n",
    "            elif val.isdigit() and (row, col + 1) in loc and line[col + 1].isdigit():\n",
    "                num += val\n",
    "            elif val.isdigit() and (row, col + 2) in loc and line[col + 1].isdigit() and line[col + 2].isdigit():\n",
    "                num += val\n",
    "            elif val.isdigit() and (row, col - 1) in loc and line[col - 1].isdigit():\n",
    "                num += val\n",
    "            elif val.isdigit() and (row, col - 2) in loc and line[col - 1].isdigit() and line[col - 2].isdigit():\n",
    "                num += val\n",
    "            elif not val.isdigit():\n",
    "                if num != '':\n",
    "                    digits = int(num)\n",
    "                    numbers.append(digits)\n",
    "                    num = ''\n",
    "        if num != '':\n",
    "            digits = int(num)\n",
    "            numbers.append(digits)\n",
    "            num = ''\n",
    "        row += 1\n",
    "\n",
    "f\"Sum of part numbers: {sum(numbers)}\""
   ]
  },
  {
   "cell_type": "markdown",
   "metadata": {},
   "source": [
    "## Part 2\n",
    "\n",
    "The missing part wasn't the only issue - one of the gears in the engine is wrong. A gear is any * symbol that is adjacent to exactly two part numbers. Its gear ratio is the result of multiplying those two numbers together.\n",
    "\n",
    "This time, you need to find the gear ratio of every gear and add them all up so that the engineer can figure out which gear needs to be replaced.\n",
    "\n",
    "Consider the same engine schematic again:\n",
    "\n",
    "    467..114..\n",
    "    ...*......\n",
    "    ..35..633.\n",
    "    ......#...\n",
    "    617*......\n",
    "    .....+.58.\n",
    "    ..592.....\n",
    "    ......755.\n",
    "    ...$.*....\n",
    "    .664.598..\n",
    "\n",
    "In this schematic, there are two gears. The first is in the top left; it has part numbers 467 and 35, so its gear ratio is 16345. The second gear is in the lower right; its gear ratio is 451490. (The * adjacent to 617 is not a gear because it is only adjacent to one part number.) Adding up all of the gear ratios produces 467835."
   ]
  },
  {
   "cell_type": "code",
   "execution_count": 6,
   "metadata": {},
   "outputs": [],
   "source": [
    "file = r'C:\\Users\\simon\\OneDrive\\Skrivbord\\Advent of Code 2023\\3\\input.txt'\n",
    "\n",
    "symbols = ['*']\n",
    "\n",
    "locations = []\n",
    "\n",
    "with open(file) as f:\n",
    "    row = 0\n",
    "    for line in f:\n",
    "        count = 0\n",
    "        line = line.strip()\n",
    "        for item in line:\n",
    "            if item in symbols:\n",
    "                locations.append((row, count))\n",
    "            count += 1\n",
    "        row += 1"
   ]
  },
  {
   "cell_type": "code",
   "execution_count": 7,
   "metadata": {},
   "outputs": [],
   "source": [
    "loc = []\n",
    "for x in locations:\n",
    "    t1 = x[0] - 1, x[1] - 1\n",
    "    t2 = x[0] - 1, x[1]\n",
    "    t3 = x[0] - 1, x[1] + 1\n",
    "\n",
    "    t4 = x[0], x[1] - 1\n",
    "    t5 = x[0], x[1] + 1\n",
    "\n",
    "    t6 = x[0] + 1, x[1] - 1\n",
    "    t7 = x[0] + 1, x[1] \n",
    "    t8 = x[0] + 1, x[1] + 1    \n",
    "\n",
    "\n",
    "    t = [t1, t2, t3, t4, t5, t6, t7, t8]\n",
    "    loc.append(t)"
   ]
  },
  {
   "cell_type": "code",
   "execution_count": 9,
   "metadata": {},
   "outputs": [
    {
     "data": {
      "text/plain": [
       "'Sum of gear ratios: 72246648'"
      ]
     },
     "execution_count": 9,
     "metadata": {},
     "output_type": "execute_result"
    }
   ],
   "source": [
    "file = r'C:\\Users\\simon\\OneDrive\\Skrivbord\\Advent of Code 2023\\3\\input.txt'\n",
    "\n",
    "numbers = []\n",
    "gears = []\n",
    "\n",
    "for x in loc:\n",
    "    row = 0\n",
    "    f = open(file)    \n",
    "    for line in f:\n",
    "        line = line.strip()\n",
    "        num = ''\n",
    "        for col, val in enumerate(line):\n",
    "            if val.isdigit() and (row, col) in x:\n",
    "                num += val\n",
    "            elif val.isdigit() and (row, col + 1) in x and line[col + 1].isdigit():\n",
    "                num += val\n",
    "            elif val.isdigit() and (row, col + 2) in x and line[col + 1].isdigit() and line[col + 2].isdigit():\n",
    "                num += val\n",
    "            elif val.isdigit() and (row, col - 1) in x and line[col - 1].isdigit():\n",
    "                num += val\n",
    "            elif val.isdigit() and (row, col - 2) in x and line[col - 1].isdigit() and line[col - 2].isdigit():\n",
    "                num += val\n",
    "            elif not val.isdigit():\n",
    "                if num != '':\n",
    "                    digits = int(num)\n",
    "                    numbers.append(digits)\n",
    "                    num = ''\n",
    "        if num != '':\n",
    "            digits = int(num)\n",
    "            numbers.append(digits)\n",
    "            num = ''\n",
    "        row += 1\n",
    "    if len(numbers) == 2:\n",
    "        gears.append(numbers[0] * numbers[1])\n",
    "    numbers = []\n",
    "\n",
    "f\"Sum of gear ratios: {sum(gears)}\""
   ]
  }
 ],
 "metadata": {
  "kernelspec": {
   "display_name": "base",
   "language": "python",
   "name": "python3"
  },
  "language_info": {
   "codemirror_mode": {
    "name": "ipython",
    "version": 3
   },
   "file_extension": ".py",
   "mimetype": "text/x-python",
   "name": "python",
   "nbconvert_exporter": "python",
   "pygments_lexer": "ipython3",
   "version": "3.11.5"
  }
 },
 "nbformat": 4,
 "nbformat_minor": 2
}
