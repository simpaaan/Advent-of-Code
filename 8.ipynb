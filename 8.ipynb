{
 "cells": [
  {
   "cell_type": "markdown",
   "metadata": {},
   "source": [
    "# Day 8: Haunted Wasteland\n",
    "\n",
    "## Part 1:\n",
    "\n",
    "You're still riding a camel across Desert Island when you spot a sandstorm quickly approaching. When you turn to warn the Elf, she disappears before your eyes! To be fair, she had just finished warning you about ghosts a few minutes ago.\n",
    "\n",
    "One of the camel's pouches is labeled \"maps\" - sure enough, it's full of documents (your puzzle input) about how to navigate the desert. At least, you're pretty sure that's what they are; one of the documents contains a list of left/right instructions, and the rest of the documents seem to describe some kind of network of labeled nodes.\n",
    "\n",
    "It seems like you're meant to use the left/right instructions to navigate the network. Perhaps if you have the camel follow the same instructions, you can escape the haunted wasteland!\n",
    "\n",
    "After examining the maps for a bit, two nodes stick out: AAA and ZZZ. You feel like AAA is where you are now, and you have to follow the left/right instructions until you reach ZZZ.\n",
    "\n",
    "This format defines each node of the network individually. For example:\n",
    "\n",
    "RL\n",
    "\n",
    "    AAA = (BBB, CCC)\n",
    "    BBB = (DDD, EEE)\n",
    "    CCC = (ZZZ, GGG)\n",
    "    DDD = (DDD, DDD)\n",
    "    EEE = (EEE, EEE)\n",
    "    GGG = (GGG, GGG)\n",
    "    ZZZ = (ZZZ, ZZZ)\n",
    "\n",
    "Starting with AAA, you need to look up the next element based on the next left/right instruction in your input. In this example, start with AAA and go right (R) by choosing the right element of AAA, CCC. Then, L means to choose the left element of CCC, ZZZ. By following the left/right instructions, you reach ZZZ in 2 steps.\n",
    "\n",
    "Of course, you might not find ZZZ right away. If you run out of left/right instructions, repeat the whole sequence of instructions as necessary: RL really means RLRLRLRLRLRLRLRL... and so on. For example, here is a situation that takes 6 steps to reach ZZZ:\n",
    "\n",
    "LLR\n",
    "\n",
    "    AAA = (BBB, BBB)\n",
    "    BBB = (AAA, ZZZ)\n",
    "    ZZZ = (ZZZ, ZZZ)\n",
    "    \n",
    "Starting at AAA, follow the left/right instructions. How many steps are required to reach ZZZ?"
   ]
  },
  {
   "cell_type": "code",
   "execution_count": 71,
   "metadata": {},
   "outputs": [],
   "source": [
    "import numpy as np\n",
    "from functools import reduce"
   ]
  },
  {
   "cell_type": "code",
   "execution_count": 72,
   "metadata": {},
   "outputs": [],
   "source": [
    "filename = r'C:\\Users\\simon\\OneDrive\\Skrivbord\\Advent of Code 2023\\8\\input.txt'\n",
    "\n",
    "dic = {}\n",
    "\n",
    "with open(filename) as f:\n",
    "    i = 0\n",
    "    for line in f:\n",
    "        if i == 0:\n",
    "            instructions = line.strip()\n",
    "        elif i == 1:\n",
    "            pass\n",
    "        else:\n",
    "            line = line.strip()\n",
    "            line = line.split(' ')\n",
    "            key = line[0]\n",
    "            val1 = line[2][1:-1]\n",
    "            val2 = line[3][:-1]\n",
    "            dic.update({key: [val1, val2]})\n",
    "            \n",
    "        i = i + 1"
   ]
  },
  {
   "cell_type": "code",
   "execution_count": 74,
   "metadata": {},
   "outputs": [],
   "source": [
    "key = 'AAA'\n",
    "index = 0\n",
    "count = 0\n",
    "\n",
    "val1, val2 = 0, 0\n",
    "\n",
    "while val1 != 'ZZZ' and val2 != 'ZZZ':\n",
    "    direction = instructions[index]\n",
    "\n",
    "    if direction == 'L':\n",
    "        val1 = dic[key][0]\n",
    "        key = val1\n",
    "\n",
    "    if direction == 'R':\n",
    "        val2 = dic[key][1]\n",
    "        key = val2\n",
    "\n",
    "    index = index + 1\n",
    "    count = count + 1\n",
    "\n",
    "    if index == len(instructions):\n",
    "        index = 0"
   ]
  },
  {
   "cell_type": "code",
   "execution_count": 75,
   "metadata": {},
   "outputs": [
    {
     "data": {
      "text/plain": [
       "'Number of steps required to reach ZZZ: 16 271'"
      ]
     },
     "execution_count": 75,
     "metadata": {},
     "output_type": "execute_result"
    }
   ],
   "source": [
    "f'Number of steps required to reach ZZZ: {count:,}'.replace(\",\", \" \") "
   ]
  },
  {
   "cell_type": "markdown",
   "metadata": {},
   "source": [
    "## Part 2:\n",
    "\n",
    "The sandstorm is upon you and you aren't any closer to escaping the wasteland. You had the camel follow the instructions, but you've barely left your starting position. It's going to take significantly more steps to escape!\n",
    "\n",
    "What if the map isn't for people - what if the map is for ghosts? Are ghosts even bound by the laws of spacetime? Only one way to find out.\n",
    "\n",
    "After examining the maps a bit longer, your attention is drawn to a curious fact: the number of nodes with names ending in A is equal to the number ending in Z! If you were a ghost, you'd probably just start at every node that ends with A and follow all of the paths at the same time until they all simultaneously end up at nodes that end with Z.\n",
    "\n",
    "For example:\n",
    "\n",
    "    LR\n",
    "\n",
    "    11A = (11B, XXX)\n",
    "    11B = (XXX, 11Z)\n",
    "    11Z = (11B, XXX)\n",
    "    22A = (22B, XXX)\n",
    "    22B = (22C, 22C)\n",
    "    22C = (22Z, 22Z)\n",
    "    22Z = (22B, 22B)\n",
    "    XXX = (XXX, XXX)\n",
    "    \n",
    "Here, there are two starting nodes, 11A and 22A (because they both end with A). As you follow each left/right instruction, use that instruction to simultaneously navigate away from both nodes you're currently on. Repeat this process until all of the nodes you're currently on end with Z. (If only some of the nodes you're on end with Z, they act like any other node and you continue as normal.) In this example, you would proceed as follows:\n",
    "\n",
    "    Step 0: You are at 11A and 22A.\n",
    "    Step 1: You choose all of the left paths, leading you to 11B and 22B.\n",
    "    Step 2: You choose all of the right paths, leading you to 11Z and 22C.\n",
    "    Step 3: You choose all of the left paths, leading you to 11B and 22Z.\n",
    "    Step 4: You choose all of the right paths, leading you to 11Z and 22B.\n",
    "    Step 5: You choose all of the left paths, leading you to 11B and 22C.\n",
    "    Step 6: You choose all of the right paths, leading you to 11Z and 22Z.\n",
    "So, in this example, you end up entirely on nodes that end in Z after 6 steps.\n",
    "\n",
    "Simultaneously start on every node that ends with A. How many steps does it take before you're only on nodes that end with Z?"
   ]
  },
  {
   "cell_type": "code",
   "execution_count": 79,
   "metadata": {},
   "outputs": [],
   "source": [
    "def gcd(a, b):\n",
    "    if a == 0:\n",
    "        return b\n",
    "\n",
    "    return gcd(b % a, a)"
   ]
  },
  {
   "cell_type": "code",
   "execution_count": 80,
   "metadata": {},
   "outputs": [],
   "source": [
    "# Euclidian algorithm\n",
    "\n",
    "def lcm(a, b):\n",
    "    lcm = a * b / (gcd(a, b))\n",
    "    return lcm"
   ]
  },
  {
   "cell_type": "code",
   "execution_count": 82,
   "metadata": {},
   "outputs": [],
   "source": [
    "filename = r'C:\\Users\\simon\\OneDrive\\Skrivbord\\Advent of Code 2023\\8\\input.txt'\n",
    "\n",
    "dic = {}\n",
    "\n",
    "nodes_a = []\n",
    "\n",
    "with open(filename) as f:\n",
    "    i = 0\n",
    "    for line in f:\n",
    "        if i == 0:\n",
    "            instructions = line.strip()\n",
    "        elif i == 1:\n",
    "            pass\n",
    "        else:\n",
    "            line = line.strip()\n",
    "            line = line.split(' ')\n",
    "            key = line[0]\n",
    "            if key[2] == 'A':\n",
    "                nodes_a.append(key)\n",
    "            val1 = line[2][1:-1]\n",
    "            val2 = line[3][:-1]\n",
    "            dic.update({key: [val1, val2]})\n",
    "            \n",
    "        i = i + 1"
   ]
  },
  {
   "cell_type": "code",
   "execution_count": 83,
   "metadata": {},
   "outputs": [],
   "source": [
    "condition = True\n",
    "index = 0\n",
    "count = 0\n",
    "loop = 0\n",
    "number_of_steps = np.zeros(len(nodes_a))\n",
    "key = nodes_a[index]\n",
    "\n",
    "while condition:\n",
    "\n",
    "    direction = instructions[count]\n",
    "\n",
    "    if direction == 'L':\n",
    "        key = dic[key][0]\n",
    "\n",
    "    elif direction == 'R':\n",
    "        key = dic[key][1]\n",
    "\n",
    "    loop = loop + 1\n",
    "\n",
    "    if key[2] == 'Z':\n",
    "        number_of_steps[index] = loop \n",
    "        index = index + 1\n",
    "        if index == len(number_of_steps):\n",
    "            break\n",
    "        key = nodes_a[index]\n",
    "        loop = 0\n",
    "        \n",
    "    count = count + 1\n",
    "\n",
    "    if count == len(instructions):\n",
    "        count = 0 "
   ]
  },
  {
   "cell_type": "code",
   "execution_count": 84,
   "metadata": {},
   "outputs": [
    {
     "data": {
      "text/plain": [
       "'Number of steps required to reach nodes that only end on Z: 14 265 111 103 729'"
      ]
     },
     "execution_count": 84,
     "metadata": {},
     "output_type": "execute_result"
    }
   ],
   "source": [
    "number = int(reduce(lambda a, b: lcm(a, b), number_of_steps))\n",
    "f\"Number of steps required to reach nodes that only end on Z: {number:,}\".replace(\",\", \" \")"
   ]
  }
 ],
 "metadata": {
  "kernelspec": {
   "display_name": "base",
   "language": "python",
   "name": "python3"
  },
  "language_info": {
   "codemirror_mode": {
    "name": "ipython",
    "version": 3
   },
   "file_extension": ".py",
   "mimetype": "text/x-python",
   "name": "python",
   "nbconvert_exporter": "python",
   "pygments_lexer": "ipython3",
   "version": "3.11.5"
  }
 },
 "nbformat": 4,
 "nbformat_minor": 2
}
