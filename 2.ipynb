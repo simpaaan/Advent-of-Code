{
 "cells": [
  {
   "cell_type": "markdown",
   "metadata": {},
   "source": [
    "# Day 2\n",
    "\n",
    "## Part 1\n",
    "\n",
    "Each time you play this game, he will hide a secret number of cubes of each color in the bag, and your goal is to figure out information about the number of cubes.\n",
    "\n",
    "To get information, once a bag has been loaded with cubes, the Elf will reach into the bag, grab a handful of random cubes, show them to you, and then put them back in the bag. He'll do this a few times per game.\n",
    "\n",
    "You play several games and record the information from each game (your puzzle input). Each game is listed with its ID number (like the 11 in Game 11: ...) followed by a semicolon-separated list of subsets of cubes that were revealed from the bag (like 3 red, 5 green, 4 blue).\n",
    "\n",
    "For example, the record of a few games might look like this:\n",
    "\n",
    "* Game 1: 3 blue, 4 red; 1 red, 2 green, 6 blue; 2 green\n",
    "* Game 2: 1 blue, 2 green; 3 green, 4 blue, 1 red; 1 green, 1 blue\n",
    "* Game 3: 8 green, 6 blue, 20 red; 5 blue, 4 red, 13 green; 5 green, 1 red\n",
    "* Game 4: 1 green, 3 red, 6 blue; 3 green, 6 red; 3 green, 15 blue, 14 red\n",
    "* Game 5: 6 red, 1 blue, 3 green; 2 blue, 1 red, 2 green\n",
    "\n",
    "In game 1, three sets of cubes are revealed from the bag (and then put back again). The first set is 3 blue cubes and 4 red cubes; the second set is 1 red cube, 2 green cubes, and 6 blue cubes; the third set is only 2 green cubes.\n",
    "\n",
    "The Elf would first like to know which games would have been possible if the bag contained only 12 red cubes, 13 green cubes, and 14 blue cubes?\n",
    "\n",
    "In the example above, games 1, 2, and 5 would have been possible if the bag had been loaded with that configuration. However, game 3 would have been impossible because at one point the Elf showed you 20 red cubes at once; similarly, game 4 would also have been impossible because the Elf showed you 15 blue cubes at once. If you add up the IDs of the games that would have been possible, you get 8.\n",
    "\n",
    "Determine which games would have been possible if the bag had been loaded with only 12 red cubes, 13 green cubes, and 14 blue cubes. What is the sum of the IDs of those games?"
   ]
  },
  {
   "cell_type": "code",
   "execution_count": 44,
   "metadata": {},
   "outputs": [],
   "source": [
    "import numpy as np"
   ]
  },
  {
   "cell_type": "code",
   "execution_count": 115,
   "metadata": {},
   "outputs": [
    {
     "data": {
      "text/plain": [
       "'Sum of the index of games that were successful: 3059'"
      ]
     },
     "execution_count": 115,
     "metadata": {},
     "output_type": "execute_result"
    }
   ],
   "source": [
    "file = r'C:\\Users\\simon\\OneDrive\\Skrivbord\\Advent of Code 2023\\2\\input.txt'\n",
    "\n",
    "games = np.ones(100)\n",
    "colors = ['red', 'green', 'blue']\n",
    "row = 0\n",
    "\n",
    "with open(file) as f:\n",
    "    for line in f:\n",
    "        red, green, blue = [], [], []\n",
    "        line = line.split(':')\n",
    "        line = line[1]\n",
    "        line = line.strip()\n",
    "        set = line.split(';')\n",
    "        for x in set:\n",
    "            color = x.split(',')\n",
    "            for y in color:\n",
    "                y = y.strip()\n",
    "                indices = [1 if color in y else 0 for color in colors]\n",
    "                index = indices.index(1)\n",
    "                current_color = colors[index]\n",
    "                num = y.split(' ')\n",
    "                val = int(num[0])\n",
    "\n",
    "                if current_color == 'red' and val > 12:\n",
    "                    games[row] = 0\n",
    "                elif current_color == 'green' and val > 13:\n",
    "                    games[row] = 0\n",
    "                elif current_color == 'blue' and val > 14:\n",
    "                    games[row] = 0     \n",
    "        row += 1       \n",
    "\n",
    "games = np.where(games == 1)[0]\n",
    "games += 1\n",
    "\n",
    "f\"Sum of the index of games that were successful: {sum(games)}\""
   ]
  },
  {
   "cell_type": "markdown",
   "metadata": {},
   "source": [
    "## Part 2\n",
    "\n",
    "As you continue your walk, the Elf poses a second question: in each game you played, what is the fewest number of cubes of each color that could have been in the bag to make the game possible?\n",
    "\n",
    "Again consider the example games from earlier:\n",
    "\n",
    "* Game 1: 3 blue, 4 red; 1 red, 2 green, 6 blue; 2 green\n",
    "* Game 2: 1 blue, 2 green; 3 green, 4 blue, 1 red; 1 green, 1 blue\n",
    "* Game 3: 8 green, 6 blue, 20 red; 5 blue, 4 red, 13 green; 5 green, 1 red\n",
    "* Game 4: 1 green, 3 red, 6 blue; 3 green, 6 red; 3 green, 15 blue, 14 red\n",
    "* Game 5: 6 red, 1 blue, 3 green; 2 blue, 1 red, 2 green\n",
    "\n",
    "\n",
    "* In game 1, the game could have been played with as few as 4 red, 2 green, and 6 blue cubes. If any color had even one fewer cube, the game would have been impossible.\n",
    "* Game 2 could have been played with a minimum of 1 red, 3 green, and 4 blue cubes.\n",
    "* Game 3 must have been played with at least 20 red, 13 green, and 6 blue cubes.\n",
    "* Game 4 required at least 14 red, 3 green, and 15 blue cubes.\n",
    "* Game 5 needed no fewer than 6 red, 3 green, and 2 blue cubes in the bag.\n",
    "\n",
    "The power of a set of cubes is equal to the numbers of red, green, and blue cubes multiplied together. The power of the minimum set of cubes in game 1 is 48. In games 2-5 it was 12, 1560, 630, and 36, respectively. Adding up these five powers produces the sum 2286.\n",
    "\n",
    "For each game, find the minimum set of cubes that must have been present. What is the sum of the power of these sets?"
   ]
  },
  {
   "cell_type": "code",
   "execution_count": 123,
   "metadata": {},
   "outputs": [
    {
     "data": {
      "text/plain": [
       "'Sum of the power from each game: 65371'"
      ]
     },
     "execution_count": 123,
     "metadata": {},
     "output_type": "execute_result"
    }
   ],
   "source": [
    "file = r'C:\\Users\\simon\\OneDrive\\Skrivbord\\Advent of Code 2023\\2\\input.txt'\n",
    "\n",
    "powers = np.zeros(100)\n",
    "colors = ['red', 'green', 'blue']\n",
    "row = 0\n",
    "\n",
    "with open(file) as f:\n",
    "    for line in f:\n",
    "        red, green, blue = [], [], []\n",
    "        line = line.split(':')\n",
    "        line = line[1]\n",
    "        line = line.strip()\n",
    "        set = line.split(';')\n",
    "        for x in set:\n",
    "            color = x.split(',')\n",
    "            for y in color:\n",
    "                y = y.strip()\n",
    "                indices = [1 if color in y else 0 for color in colors]\n",
    "                index = indices.index(1)\n",
    "                current_color = colors[index]\n",
    "                num = y.split(' ')\n",
    "                val = int(num[0])\n",
    "\n",
    "                if current_color == 'red':\n",
    "                    red.append(val)\n",
    "                elif current_color == 'green':\n",
    "                    green.append(val)\n",
    "                elif current_color == 'blue':\n",
    "                    blue.append(val)   \n",
    "        \n",
    "        min_red = max(red)\n",
    "        min_green = max(green)\n",
    "        min_blue = max(blue)\n",
    "\n",
    "        power = min_red * min_green * min_blue\n",
    "        powers[row] = power\n",
    "        row += 1       \n",
    "\n",
    "powers = powers.astype(int)\n",
    "f\"Sum of the power from each game: {sum(powers)}\""
   ]
  }
 ],
 "metadata": {
  "kernelspec": {
   "display_name": "base",
   "language": "python",
   "name": "python3"
  },
  "language_info": {
   "codemirror_mode": {
    "name": "ipython",
    "version": 3
   },
   "file_extension": ".py",
   "mimetype": "text/x-python",
   "name": "python",
   "nbconvert_exporter": "python",
   "pygments_lexer": "ipython3",
   "version": "3.11.5"
  }
 },
 "nbformat": 4,
 "nbformat_minor": 2
}
