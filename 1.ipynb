{
 "cells": [
  {
   "cell_type": "markdown",
   "metadata": {},
   "source": [
    "# Day 1"
   ]
  },
  {
   "cell_type": "markdown",
   "metadata": {},
   "source": [
    "### Part 1\n",
    "\n",
    "On each line, the calibration value can be found by combining the first digit and the last digit (in that order) to form a single two-digit number.\n",
    "\n",
    "For example:\n",
    "\n",
    "* 1abc2\n",
    "* pqr3stu8vwx\n",
    "* a1b2c3d4e5f\n",
    "* treb7uchet\n",
    "\n",
    "In this example, the calibration values of these four lines are 12, 38, 15, and 77. Adding these together produces 142.\n",
    "\n",
    "Consider your entire calibration document. What is the sum of all of the calibration values?"
   ]
  },
  {
   "cell_type": "code",
   "execution_count": 1,
   "metadata": {},
   "outputs": [],
   "source": [
    "import pandas as pd\n",
    "import numpy as np"
   ]
  },
  {
   "cell_type": "code",
   "execution_count": 31,
   "metadata": {},
   "outputs": [
    {
     "data": {
      "text/plain": [
       "'Sum is: 56042'"
      ]
     },
     "execution_count": 31,
     "metadata": {},
     "output_type": "execute_result"
    }
   ],
   "source": [
    "filename = r'C:\\Users\\simon\\OneDrive\\Skrivbord\\Advent of Code 2023\\input.txt'\n",
    "\n",
    "numbers = []\n",
    "find_numbers = ['1', '2', '3', '4', '5', '6', '7', '8', '9']\n",
    "\n",
    "with open(filename) as f:\n",
    "    for line in f:\n",
    "        line = line.strip()\n",
    "        line_reverse = line[::-1]\n",
    "\n",
    "        indices = np.array([line.index(sub) if sub in line else None for sub in find_numbers])\n",
    "        indices_reverse = np.array([line_reverse.index(sub) if sub in line_reverse else None for sub in find_numbers])\n",
    "\n",
    "        indices = indices[indices != None]\n",
    "        indices_reverse = indices_reverse[indices_reverse != None]\n",
    "\n",
    "        i_min, i_max = indices.min(), indices_reverse.min()\n",
    "        val = line[i_min] + line_reverse[i_max]\n",
    "        val = int(val)\n",
    "        numbers.append(val)\n",
    "\n",
    "num_sum = sum(numbers)\n",
    "f\"Sum is: {num_sum}\""
   ]
  },
  {
   "cell_type": "markdown",
   "metadata": {},
   "source": [
    "### Part 2\n",
    "\n",
    "Your calculation isn't quite right. It looks like some of the digits are actually spelled out with letters: one, two, three, four, five, six, seven, eight, and nine also count as valid \"digits\".\n",
    "\n",
    "Equipped with this new information, you now need to find the real first and last digit on each line. For example:\n",
    "\n",
    "* two1nine\n",
    "* eightwothree\n",
    "* abcone2threexyz\n",
    "* xtwone3four\n",
    "* 4nineeightseven2\n",
    "* zoneight234\n",
    "* 7pqrstsixteen\n",
    "\n",
    "In this example, the calibration values are 29, 83, 13, 24, 42, 14, and 76. Adding these together produces 281.\n",
    "\n",
    "What is the sum of all of the calibration values?"
   ]
  },
  {
   "cell_type": "code",
   "execution_count": 25,
   "metadata": {},
   "outputs": [
    {
     "data": {
      "text/plain": [
       "'Sum is: 55358'"
      ]
     },
     "execution_count": 25,
     "metadata": {},
     "output_type": "execute_result"
    }
   ],
   "source": [
    "filename = r'C:\\Users\\simon\\OneDrive\\Skrivbord\\Advent of Code 2023\\input.txt'\n",
    "numbers = []\n",
    "find_numbers = ['1', '2', '3', '4', '5', '6', '7', '8', '9', 'one', 'two', 'three', 'four', 'five', 'six', 'seven', 'eight', 'nine']\n",
    "replacements = {'one': '1', 'two': '2', 'three': '3', 'four': '4', 'five': '5', 'six': '6', 'seven': '7', 'eight': '8', 'nine': '9'}\n",
    "\n",
    "with open(filename) as f:\n",
    "    for line in f:\n",
    "        line = line.strip()\n",
    "    \n",
    "        indices = [line.index(sub) if sub in line else None for sub in find_numbers]\n",
    "        r_indices = [line.rindex(sub) if sub in line else None for sub in find_numbers]\n",
    "        \n",
    "        t1 = indices.index(min(x for x in indices if x is not None))\n",
    "        t2 = r_indices.index(max(x for x in r_indices if x is not None))\n",
    "\n",
    "        val1 = find_numbers[t1]\n",
    "        val2 = find_numbers[t2]\n",
    "\n",
    "        if val1.isalpha() or val2.isalpha():\n",
    "            for old_value, new_value in replacements.items():\n",
    "                val1 = val1.replace(old_value, new_value)\n",
    "                val2 = val2.replace(old_value, new_value)\n",
    "\n",
    "        val = val1 + val2\n",
    "        val = int(val)  \n",
    "\n",
    "        numbers.append(val)\n",
    "\n",
    "num_sum = sum(numbers)\n",
    "f\"Sum is: {num_sum}\""
   ]
  }
 ],
 "metadata": {
  "kernelspec": {
   "display_name": "base",
   "language": "python",
   "name": "python3"
  },
  "language_info": {
   "codemirror_mode": {
    "name": "ipython",
    "version": 3
   },
   "file_extension": ".py",
   "mimetype": "text/x-python",
   "name": "python",
   "nbconvert_exporter": "python",
   "pygments_lexer": "ipython3",
   "version": "3.11.5"
  }
 },
 "nbformat": 4,
 "nbformat_minor": 2
}
