{
 "cells": [
  {
   "cell_type": "markdown",
   "metadata": {},
   "source": [
    "# Day 7: Camel Cards\n",
    "\n",
    "## Part 1\n",
    "\n",
    "Your all-expenses-paid trip turns out to be a one-way, five-minute ride in an airship. (At least it's a cool airship!) It drops you off at the edge of a vast desert and descends back to Island Island.\n",
    "\n",
    "\"Did you bring the parts?\"\n",
    "\n",
    "You turn around to see an Elf completely covered in white clothing, wearing goggles, and riding a large camel.\n",
    "\n",
    "\"Did you bring the parts?\" she asks again, louder this time. You aren't sure what parts she's looking for; you're here to figure out why the sand stopped.\n",
    "\n",
    "\"The parts! For the sand, yes! Come with me; I will show you.\" She beckons you onto the camel.\n",
    "\n",
    "After riding a bit across the sands of Desert Island, you can see what look like very large rocks covering half of the horizon. The Elf explains that the rocks are all along the part of Desert Island that is directly above Island Island, making it hard to even get there. Normally, they use big machines to move the rocks and filter the sand, but the machines have broken down because Desert Island recently stopped receiving the parts they need to fix the machines.\n",
    "\n",
    "You've already assumed it'll be your job to figure out why the parts stopped when she asks if you can help. You agree automatically.\n",
    "\n",
    "Because the journey will take a few days, she offers to teach you the game of Camel Cards. Camel Cards is sort of similar to poker except it's designed to be easier to play while riding a camel.\n",
    "\n",
    "In Camel Cards, you get a list of hands, and your goal is to order them based on the strength of each hand. A hand consists of five cards labeled one of A, K, Q, J, T, 9, 8, 7, 6, 5, 4, 3, or 2. The relative strength of each card follows this order, where A is the highest and 2 is the lowest.\n",
    "\n",
    "Every hand is exactly one type. From strongest to weakest, they are:\n",
    "\n",
    "    Five of a kind, where all five cards have the same label: AAAAA\n",
    "    Four of a kind, where four cards have the same label and one card has a different label: AA8AA\n",
    "    Full house, where three cards have the same label, and the remaining two cards share a different label: 23332\n",
    "    Three of a kind, where three cards have the same label, and the remaining two cards are each different from any other card in the hand: TTT98\n",
    "    Two pair, where two cards share one label, two other cards share a second label, and the remaining card has a third label: 23432\n",
    "    One pair, where two cards share one label, and the other three cards have a different label from the pair and each other: A23A4\n",
    "    High card, where all cards' labels are distinct: 23456\n",
    "    Hands are primarily ordered based on type; for example, every full house is stronger than any three of a kind.\n",
    "\n",
    "If two hands have the same type, a second ordering rule takes effect. Start by comparing the first card in each hand. If these cards are different, the hand with the stronger first card is considered stronger. If the first card in each hand have the same label, however, then move on to considering the second card in each hand. If they differ, the hand with the higher second card wins; otherwise, continue with the third card in each hand, then the fourth, then the fifth.\n",
    "\n",
    "So, 33332 and 2AAAA are both four of a kind hands, but 33332 is stronger because its first card is stronger. Similarly, 77888 and 77788 are both a full house, but 77888 is stronger because its third card is stronger (and both hands have the same first and second card).\n",
    "\n",
    "To play Camel Cards, you are given a list of hands and their corresponding bid (your puzzle input). For example:\n",
    "\n",
    "    32T3K 765\n",
    "    T55J5 684\n",
    "    KK677 28\n",
    "    KTJJT 220\n",
    "    QQQJA 483\n",
    "    \n",
    "This example shows five hands; each hand is followed by its bid amount. Each hand wins an amount equal to its bid multiplied by its rank, where the weakest hand gets rank 1, the second-weakest hand gets rank 2, and so on up to the strongest hand. Because there are five hands in this example, the strongest hand will have rank 5 and its bid will be multiplied by 5.\n",
    "\n",
    "So, the first step is to put the hands in order of strength:\n",
    "\n",
    "    32T3K is the only one pair and the other hands are all a stronger type, so it gets rank 1.\n",
    "    KK677 and KTJJT are both two pair. Their first cards both have the same label, but the second card of KK677 is stronger (K vs T), so KTJJT gets rank 2 and KK677 gets rank 3.\n",
    "    T55J5 and QQQJA are both three of a kind. QQQJA has a stronger first card, so it gets rank 5 and T55J5 gets rank 4.\n",
    "    \n",
    "Now, you can determine the total winnings of this set of hands by adding up the result of multiplying each hand's bid with its rank (765 * 1 + 220 * 2 + 28 * 3 + 684 * 4 + 483 * 5). So the total winnings in this example are 6440.\n",
    "\n",
    "Find the rank of every hand in your set. What are the total winnings?"
   ]
  },
  {
   "cell_type": "code",
   "execution_count": 159,
   "metadata": {},
   "outputs": [],
   "source": [
    "from collections import Counter"
   ]
  },
  {
   "cell_type": "code",
   "execution_count": 165,
   "metadata": {},
   "outputs": [],
   "source": [
    "filename = r'C:\\Users\\simon\\OneDrive\\Skrivbord\\Advent of Code 2023\\7\\input.txt'\n",
    "\n",
    "five_of_a_kind = []\n",
    "four_of_a_kind = []\n",
    "full_house = []\n",
    "three_of_a_kind = []\n",
    "two_pair = []\n",
    "one_pair = []\n",
    "high_card = []\n",
    "\n",
    "dic = {}\n",
    "\n",
    "with open(filename) as f:\n",
    "    row = 0\n",
    "    for line in f:\n",
    "        line = line.strip()\n",
    "        line = line.split(' ')\n",
    "        hand, bid = line[0], int(line[1])\n",
    "        dic.update({hand: bid})\n",
    "\n",
    "        count = Counter(hand)\n",
    "\n",
    "        if 5 in count.values():\n",
    "            five_of_a_kind.append(hand)\n",
    "\n",
    "        elif 4 in count.values():\n",
    "            four_of_a_kind.append(hand)\n",
    "\n",
    "        elif 3 in count.values() and 2 in count.values():\n",
    "            full_house.append(hand)\n",
    "\n",
    "        elif 3 in count.values():\n",
    "            three_of_a_kind.append(hand)\n",
    "        \n",
    "        elif list(count.values()).count(2) == 2: \n",
    "            two_pair.append(hand)\n",
    "        \n",
    "        elif 2 in count.values():\n",
    "            one_pair.append(hand)\n",
    "\n",
    "        else:\n",
    "            high_card.append(hand)"
   ]
  },
  {
   "cell_type": "code",
   "execution_count": 166,
   "metadata": {},
   "outputs": [],
   "source": [
    "custom_order = ['A', 'K', 'Q', 'J', 'T', '9', '8', '7', '6', '5', '4', '3', '2']\n",
    "order_dict = {char: index for index, char in enumerate(custom_order)}\n",
    "\n",
    "def custom_sort_key(string):\n",
    "    return [order_dict[char] for char in string]"
   ]
  },
  {
   "cell_type": "code",
   "execution_count": 167,
   "metadata": {},
   "outputs": [],
   "source": [
    "s1 = sorted(five_of_a_kind, key = custom_sort_key)\n",
    "s2 = sorted(four_of_a_kind, key = custom_sort_key)\n",
    "s3 = sorted(full_house, key = custom_sort_key)\n",
    "s4 = sorted(three_of_a_kind, key = custom_sort_key)\n",
    "s5 = sorted(two_pair, key = custom_sort_key)\n",
    "s6 = sorted(one_pair, key = custom_sort_key)\n",
    "s7 = sorted(high_card, key = custom_sort_key)"
   ]
  },
  {
   "cell_type": "code",
   "execution_count": 168,
   "metadata": {},
   "outputs": [],
   "source": [
    "s = s1 + s2 + s3 + s4 + s5 + s6 + s7\n",
    "s = s[::-1]"
   ]
  },
  {
   "cell_type": "code",
   "execution_count": 169,
   "metadata": {},
   "outputs": [
    {
     "data": {
      "text/plain": [
       "'Total winnings: 256448566'"
      ]
     },
     "execution_count": 169,
     "metadata": {},
     "output_type": "execute_result"
    }
   ],
   "source": [
    "f\"Total winnings: {sum([(i + 1) * dic[v] for i, v in enumerate(s)])}\""
   ]
  },
  {
   "cell_type": "markdown",
   "metadata": {},
   "source": [
    "## Part 2\n",
    "\n",
    "To make things a little more interesting, the Elf introduces one additional rule. Now, J cards are jokers - wildcards that can act like whatever card would make the hand the strongest type possible.\n",
    "\n",
    "To balance this, J cards are now the weakest individual cards, weaker even than 2. The other cards stay in the same order: A, K, Q, T, 9, 8, 7, 6, 5, 4, 3, 2, J.\n",
    "\n",
    "J cards can pretend to be whatever card is best for the purpose of determining hand type; for example, QJJQ2 is now considered four of a kind. However, for the purpose of breaking ties between two hands of the same type, J is always treated as J, not the card it's pretending to be: JKKK2 is weaker than QQQQ2 because J is weaker than Q.\n",
    "\n",
    "Now, the above example goes very differently:\n",
    "\n",
    "    32T3K 765\n",
    "    T55J5 684\n",
    "    KK677 28\n",
    "    KTJJT 220\n",
    "    QQQJA 483\n",
    "\n",
    "32T3K is still the only one pair; it doesn't contain any jokers, so its strength doesn't increase.\n",
    "KK677 is now the only two pair, making it the second-weakest hand.\n",
    "T55J5, KTJJT, and QQQJA are now all four of a kind! T55J5 gets rank 3, QQQJA gets rank 4, and KTJJT gets rank 5.\n",
    "With the new joker rule, the total winnings in this example are 5905.\n",
    "\n",
    "Using the new joker rule, find the rank of every hand in your set. What are the new total winnings?"
   ]
  },
  {
   "cell_type": "code",
   "execution_count": 156,
   "metadata": {},
   "outputs": [],
   "source": [
    "filename = r'C:\\Users\\simon\\OneDrive\\Skrivbord\\Advent of Code 2023\\7\\input.txt'\n",
    "\n",
    "five_of_a_kind = []\n",
    "four_of_a_kind = []\n",
    "full_house = []\n",
    "three_of_a_kind = []\n",
    "two_pair = []\n",
    "one_pair = []\n",
    "high_card = []\n",
    "\n",
    "dic = {}\n",
    "\n",
    "with open(filename) as f:\n",
    "    row = 0\n",
    "    for line in f:\n",
    "        line = line.strip()\n",
    "        line = line.split(' ')\n",
    "        hand, bid = line[0], int(line[1])\n",
    "        dic.update({hand: bid})\n",
    "\n",
    "        count = Counter(hand)\n",
    "\n",
    "        j = count['J']\n",
    "\n",
    "        if 5 in count.values():\n",
    "            five_of_a_kind.append(hand)\n",
    "\n",
    "        elif 4 in count.values() and (j == 1 or j == 4):\n",
    "            five_of_a_kind.append(hand)\n",
    "        \n",
    "        elif 4 in count.values():\n",
    "            four_of_a_kind.append(hand)\n",
    "\n",
    "        elif 3 in count.values() and 2 in count.values() and (j == 2 or j == 3):\n",
    "            five_of_a_kind.append(hand)\n",
    "\n",
    "        elif 3 in count.values() and 2 in count.values():\n",
    "            full_house.append(hand)\n",
    "\n",
    "        elif 3 in count.values() and (j == 1 or j == 3):\n",
    "            four_of_a_kind.append(hand)\n",
    "\n",
    "        elif 3 in count.values():\n",
    "            three_of_a_kind.append(hand)\n",
    "\n",
    "        elif list(count.values()).count(2) == 2 and (j == 2):\n",
    "            four_of_a_kind.append(hand)\n",
    "\n",
    "        elif list(count.values()).count(2) == 2 and (j == 1):\n",
    "            full_house.append(hand)\n",
    "\n",
    "        elif list(count.values()).count(2) == 2:\n",
    "            two_pair.append(hand)\n",
    "\n",
    "        elif 2 in count.values() and j == 1:\n",
    "            three_of_a_kind.append(hand)\n",
    "\n",
    "        elif 2 in count.values() and j == 2:\n",
    "            three_of_a_kind.append(hand)\n",
    "\n",
    "        elif 2 in count.values():\n",
    "            one_pair.append(hand)\n",
    "\n",
    "        elif 1 in count.values() and j == 1:\n",
    "            one_pair.append(hand)\n",
    "\n",
    "        else:\n",
    "            high_card.append(hand)"
   ]
  },
  {
   "cell_type": "code",
   "execution_count": 150,
   "metadata": {},
   "outputs": [],
   "source": [
    "custom_order = ['A', 'K', 'Q', 'T', '9', '8', '7', '6', '5', '4', '3', '2', 'J']\n",
    "order_dict = {char: index for index, char in enumerate(custom_order)}\n",
    "\n",
    "def custom_sort_key(string):\n",
    "    return [order_dict[char] for char in string]"
   ]
  },
  {
   "cell_type": "code",
   "execution_count": 151,
   "metadata": {},
   "outputs": [],
   "source": [
    "s1 = sorted(five_of_a_kind, key = custom_sort_key)\n",
    "s2 = sorted(four_of_a_kind, key = custom_sort_key)\n",
    "s3 = sorted(full_house, key = custom_sort_key)\n",
    "s4 = sorted(three_of_a_kind, key = custom_sort_key)\n",
    "s5 = sorted(two_pair, key = custom_sort_key)\n",
    "s6 = sorted(one_pair, key = custom_sort_key)\n",
    "s7 = sorted(high_card, key = custom_sort_key)"
   ]
  },
  {
   "cell_type": "code",
   "execution_count": 152,
   "metadata": {},
   "outputs": [],
   "source": [
    "s = s1 + s2 + s3 + s4 + s5 + s6 + s7\n",
    "s = s[::-1]"
   ]
  },
  {
   "cell_type": "code",
   "execution_count": 154,
   "metadata": {},
   "outputs": [
    {
     "data": {
      "text/plain": [
       "'Total winnings: 254412181'"
      ]
     },
     "execution_count": 154,
     "metadata": {},
     "output_type": "execute_result"
    }
   ],
   "source": [
    "f\"Total winnings: {sum([(i + 1) * dic[v] for i, v in enumerate(s)])}\""
   ]
  }
 ],
 "metadata": {
  "kernelspec": {
   "display_name": "base",
   "language": "python",
   "name": "python3"
  },
  "language_info": {
   "codemirror_mode": {
    "name": "ipython",
    "version": 3
   },
   "file_extension": ".py",
   "mimetype": "text/x-python",
   "name": "python",
   "nbconvert_exporter": "python",
   "pygments_lexer": "ipython3",
   "version": "3.11.5"
  }
 },
 "nbformat": 4,
 "nbformat_minor": 2
}
